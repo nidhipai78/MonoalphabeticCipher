{
  "nbformat": 4,
  "nbformat_minor": 0,
  "metadata": {
    "colab": {
      "provenance": [],
      "authorship_tag": "ABX9TyNC6Wb4MZXe7nKcdsEMwZLv",
      "include_colab_link": true
    },
    "kernelspec": {
      "name": "python3",
      "display_name": "Python 3"
    },
    "language_info": {
      "name": "python"
    }
  },
  "cells": [
    {
      "cell_type": "markdown",
      "metadata": {
        "id": "view-in-github",
        "colab_type": "text"
      },
      "source": [
        "<a href=\"https://colab.research.google.com/github/nidhipai78/MonoalphabeticCipher/blob/main/MonoalphabeticCipher.ipynb\" target=\"_parent\"><img src=\"https://colab.research.google.com/assets/colab-badge.svg\" alt=\"Open In Colab\"/></a>"
      ]
    },
    {
      "cell_type": "code",
      "execution_count": 1,
      "metadata": {
        "colab": {
          "base_uri": "https://localhost:8080/"
        },
        "id": "GidnGmQy5oTx",
        "outputId": "a61df424-f000-4c31-9653-256267a62c0e"
      },
      "outputs": [
        {
          "output_type": "stream",
          "name": "stdout",
          "text": [
            "Enter the plain text: hello\n",
            "Encrypted text: itssg\n",
            "Decrypted text: hello\n"
          ]
        }
      ],
      "source": [
        "#MONOALPHABETIC CIPHER\n",
        "\n",
        "keys = {\n",
        " 'a': 'q', 'b': 'w', 'c': 'e', 'd': 'r', 'e': 't', 'f': 'y', 'g': 'u', 'h': 'i',\n",
        " 'i': 'o', 'j': 'p', 'k': 'a', 'l': 's', 'm': 'd', 'n': 'f', 'o': 'g', 'p': 'h',\n",
        " 'q': 'j', 'r': 'k', 's': 'l', 't': 'z', 'u': 'x', 'v': 'c', 'w': 'v', 'x': 'b',\n",
        " 'y': 'n', 'z': 'm'\n",
        " }\n",
        "reverse_keys = {v: k for k, v in keys.items()}\n",
        "def encrypt(text):\n",
        " text = text.lower()\n",
        " encrypted_text = []\n",
        " for l in text:\n",
        "  encrypted_text.append(keys.get(l, l))\n",
        " return ''.join(encrypted_text)\n",
        "\n",
        "def decipher(text):\n",
        " text = text.lower()\n",
        " decrypted_text = []\n",
        " for l in text:\n",
        "    decrypted_text.append(reverse_keys.get(l, l))\n",
        " return ''.join(decrypted_text)\n",
        "x = input(\"Enter the plain text: \")\n",
        "encrypted_text = encrypt(x)\n",
        "decrypted_text = decipher(encrypted_text)\n",
        "print(\"Encrypted text:\", encrypted_text)\n",
        "print(\"Decrypted text:\", decrypted_text)\n"
      ]
    }
  ]
}